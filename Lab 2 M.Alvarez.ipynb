{
 "cells": [
  {
   "attachments": {},
   "cell_type": "markdown",
   "metadata": {},
   "source": [
    "### 1. Ejercicio de Segundos"
   ]
  },
  {
   "cell_type": "code",
   "execution_count": 4,
   "metadata": {},
   "outputs": [
    {
     "name": "stdout",
     "output_type": "stream",
     "text": [
      "Los 150 segundos se convierten a 00:02:30\n",
      "Los 500 segundos se convierten a 00:08:20\n",
      "Los 240 segundos se convierten a 00:04:00\n",
      "Los 2500 segundos se convierten a 00:41:40\n",
      "Los 3526 segundos se convierten a 00:58:46\n",
      "Los 145 segundos se convierten a 00:02:25\n",
      "Los 458 segundos se convierten a 00:07:38\n",
      "Los 25623 segundos se convierten a 07:07:03\n",
      "Los 2743 segundos se convierten a 00:45:43\n",
      "Los 5871 segundos se convierten a 01:37:51\n"
     ]
    }
   ],
   "source": [
    "def segundos_a_segundos_minutos_y_horas(segundos):\n",
    "    horas = int(segundos / 60 / 60)\n",
    "    segundos -= horas*60*60\n",
    "    minutos = int(segundos/60)\n",
    "    segundos -= minutos*60\n",
    "    return f\"{horas:02d}:{minutos:02d}:{segundos:02d}\"\n",
    "\n",
    "segundos = [150, 500, 240, 2500, 3526, 145, 458, 25623, 2743, 5871]\n",
    "for cantidad_segundos in segundos:\n",
    "    convertido = segundos_a_segundos_minutos_y_horas(cantidad_segundos)\n",
    "    print(f\"Los {cantidad_segundos} segundos se convierten a {convertido}\")"
   ]
  },
  {
   "attachments": {},
   "cell_type": "markdown",
   "metadata": {},
   "source": [
    "###2. Ejercicio patrones triangulares"
   ]
  },
  {
   "cell_type": "code",
   "execution_count": 24,
   "metadata": {},
   "outputs": [
    {
     "name": "stdout",
     "output_type": "stream",
     "text": [
      "+\n",
      "++\n",
      "+++\n",
      "++++\n",
      "\n",
      "\n",
      "++++\n",
      "+++\n",
      "++\n",
      "+\n",
      "\n",
      "\n",
      "    \n",
      "   +\n",
      "  ++\n",
      " +++\n",
      "++++\n",
      "\n",
      "++++\n",
      " +++\n",
      "  ++\n",
      "   +\n"
     ]
    }
   ],
   "source": [
    "def triangulo(x):\n",
    "    for i in range(0,x,1):\n",
    "        for j in range(0,i+1,1):\n",
    "            print(\"+\",end=\"\")\n",
    "        print(\"\")\n",
    "    print(\"\\n\") \n",
    "\n",
    "    for i in range(x,0,-1):\n",
    "        for j in range(0,i,1):\n",
    "            print(\"+\",end=\"\")\n",
    "        print(\"\")\n",
    "    print(\"\\n\")\n",
    "\n",
    "    for i in range(x,-1,-1):\n",
    "        for j in range(i):\n",
    "            print(\" \",end=\"\")\n",
    "        for k in range(i,x):\n",
    "            print(\"+\",end=\"\")\n",
    "        print(\"\")\n",
    "    print(\"\")\n",
    "\n",
    "    for i in range(x-1,-1,-1):\n",
    "        for j in range(x - i - 1):\n",
    "            print(\" \",end=\"\")\n",
    "        for k in range(i+1):\n",
    "            print(\"+\",end=\"\")\n",
    "        print(\"\")   \n",
    "\n",
    "x=int(input(\"Ingresar el número filas\")) \n",
    "triangulo(x)       "
   ]
  },
  {
   "attachments": {},
   "cell_type": "markdown",
   "metadata": {},
   "source": [
    "###3. Ejercicio de fecha de nacimiento"
   ]
  },
  {
   "cell_type": "code",
   "execution_count": 30,
   "metadata": {},
   "outputs": [
    {
     "name": "stdout",
     "output_type": "stream",
     "text": [
      "27 Años 10 Meses 18 Dias\n"
     ]
    }
   ],
   "source": [
    "fechaF = input(\"ingrese fecha de nacimiento (dd/mm/yyyy): \")\n",
    "\n",
    "#Validacion de la fecha de nacimiento\n",
    "try:\n",
    "    from datetime import datetime\n",
    "    fechaF = datetime.strptime(fechaF, '%d/%m/%Y')\n",
    "except:\n",
    "    print(\"La fecha ingresa no es la correcta el formato debe ser (dd/mm/yyyy)\")\n",
    "    exit()\n",
    "\n",
    "anioF = fechaF.year\n",
    "mesF = fechaF.month\n",
    "diaF = fechaF.day\n",
    "\n",
    "#Fecha actual \"Hoy\"\n",
    "fechaH = datetime.today()\n",
    "\n",
    "anioH = fechaH.year\n",
    "mesH = fechaH.month\n",
    "diaH = fechaH.day\n",
    "\n",
    "mesAdicional = 0\n",
    "if (diaF > diaH):\n",
    "    import calendar\n",
    "    ultimodia = calendar.monthrange(anioF, mesF)[1]\n",
    "    diaH = diaH + ultimodia\n",
    "    mesAdicional = 1\n",
    "dias = diaH - diaF\n",
    "\n",
    "anioAdicional = 0\n",
    "if (mesF > mesH):\n",
    "    mesH = mesH + 12\n",
    "    anioAdicional = 1\n",
    "\n",
    "meses = mesH - (mesF + mesAdicional)\n",
    "anios = anioH - (anioF + anioAdicional)\n",
    "\n",
    "print(str(anios)+ \" Años \"+str(meses)+\" Meses \"+str(dias) +\" Dias\")"
   ]
  },
  {
   "attachments": {},
   "cell_type": "markdown",
   "metadata": {},
   "source": [
    "###4. Tupla de elementos"
   ]
  },
  {
   "cell_type": "code",
   "execution_count": 31,
   "metadata": {},
   "outputs": [
    {
     "name": "stdout",
     "output_type": "stream",
     "text": [
      "<class 'str'>\n",
      "102040570\n"
     ]
    }
   ],
   "source": [
    "tupla4= ('10', '20','40','5','70')\n",
    "\n",
    "python =''.join(tupla4)\n",
    "\n",
    "print(type(python))\n",
    "print(python)"
   ]
  },
  {
   "attachments": {},
   "cell_type": "markdown",
   "metadata": {},
   "source": [
    "###5. Remover Tuplas vacías"
   ]
  },
  {
   "cell_type": "code",
   "execution_count": 39,
   "metadata": {},
   "outputs": [
    {
     "name": "stdout",
     "output_type": "stream",
     "text": [
      "[(), (), ('X',), ('a', 'b'), ('a', 'b', 'c'), 'd']\n",
      "6\n",
      "\n",
      "[('X',), ('a', 'b'), ('a', 'b', 'c'), 'd']\n",
      "4\n"
     ]
    }
   ],
   "source": [
    "tupla5 = [(), (), ('X',), ('a','b'), ('a','b','c'), ('d')]\n",
    "\n",
    "print(tupla5)\n",
    "print(len(tupla5))\n",
    "\n",
    "print()\n",
    "\n",
    "tupla5 = [t for t in tupla5 if t]\n",
    "\n",
    "print(tupla5)\n",
    "print(len(tupla5))"
   ]
  },
  {
   "attachments": {},
   "cell_type": "markdown",
   "metadata": {},
   "source": [
    "###6. Promedio de Tuplas"
   ]
  },
  {
   "cell_type": "code",
   "execution_count": 44,
   "metadata": {},
   "outputs": [
    {
     "name": "stdout",
     "output_type": "stream",
     "text": [
      "¿Cantidad de números que ingresaras?\n",
      "Valor número:  1\n",
      "Valor número:  2\n",
      "Valor número:  3\n",
      "Valor número:  4\n",
      "Promedio: 10.5\n"
     ]
    }
   ],
   "source": [
    "nums = []\n",
    "print(\"¿Cantidad de números que ingresaras?\")\n",
    "n = int(input())\n",
    "i = 0\n",
    "while i < n:\n",
    "    print(\"Valor número: \", i+1)\n",
    "    val = float (input())\n",
    "    nums.append(val)\n",
    "    i+=1\n",
    "prom = sum(nums) / len(nums)\n",
    "print(\"Promedio:\",prom)\n"
   ]
  },
  {
   "cell_type": "code",
   "execution_count": 45,
   "metadata": {},
   "outputs": [
    {
     "name": "stdout",
     "output_type": "stream",
     "text": [
      "¿Cantidad de números que ingresaras?\n",
      "Valor número:  1\n",
      "Valor número:  2\n",
      "Valor número:  3\n",
      "Valor número:  4\n",
      "Promedio: 44.0\n"
     ]
    }
   ],
   "source": [
    "nums = []\n",
    "print(\"¿Cantidad de números que ingresaras?\")\n",
    "n = int(input())\n",
    "i = 0\n",
    "while i < n:\n",
    "    print(\"Valor número: \", i+1)\n",
    "    val = float (input())\n",
    "    nums.append(val)\n",
    "    i+=1\n",
    "prom = sum(nums) / len(nums)\n",
    "print(\"Promedio:\",prom)"
   ]
  },
  {
   "cell_type": "code",
   "execution_count": 46,
   "metadata": {},
   "outputs": [
    {
     "name": "stdout",
     "output_type": "stream",
     "text": [
      "¿Cantidad de números que ingresaras?\n",
      "Valor número:  1\n",
      "Valor número:  2\n",
      "Valor número:  3\n",
      "Valor número:  4\n",
      "Promedio: 58.0\n"
     ]
    }
   ],
   "source": [
    "nums = []\n",
    "print(\"¿Cantidad de números que ingresaras?\")\n",
    "n = int(input())\n",
    "i = 0\n",
    "while i < n:\n",
    "    print(\"Valor número: \", i+1)\n",
    "    val = float (input())\n",
    "    nums.append(val)\n",
    "    i+=1\n",
    "prom = sum(nums) / len(nums)\n",
    "print(\"Promedio:\",prom)"
   ]
  },
  {
   "attachments": {},
   "cell_type": "markdown",
   "metadata": {},
   "source": [
    "###7. Facturas pendientes de Cobro"
   ]
  },
  {
   "cell_type": "code",
   "execution_count": 53,
   "metadata": {},
   "outputs": [
    {
     "name": "stdout",
     "output_type": "stream",
     "text": [
      "Seleccione una opción \n",
      "1:añadir(presione 1)\n",
      " 2: Pagar Factura (presione 2) \n",
      " 3:Terminar\n",
      "{'4500': 1500.0}\n",
      "Seleccione una opción \n",
      "1:añadir(presione 1)\n",
      " 2: Pagar Factura (presione 2) \n",
      " 3:Terminar\n",
      "{'4500': 1500.0, '1234': 2000.0}\n",
      "Seleccione una opción \n",
      "1:añadir(presione 1)\n",
      " 2: Pagar Factura (presione 2) \n",
      " 3:Terminar\n",
      "{'4500': 1500.0, '1234': 2000.0, '5678': 1800.0}\n",
      "Seleccione una opción \n",
      "1:añadir(presione 1)\n",
      " 2: Pagar Factura (presione 2) \n",
      " 3:Terminar\n"
     ]
    },
    {
     "ename": "ValueError",
     "evalue": "invalid literal for int() with base 10: ''",
     "output_type": "error",
     "traceback": [
      "\u001b[1;31m---------------------------------------------------------------------------\u001b[0m",
      "\u001b[1;31mValueError\u001b[0m                                Traceback (most recent call last)",
      "\u001b[1;32m~\\AppData\\Local\\Temp\\ipykernel_25532\\3242429915.py\u001b[0m in \u001b[0;36m<module>\u001b[1;34m\u001b[0m\n\u001b[0;32m      3\u001b[0m     \u001b[0mprint\u001b[0m\u001b[1;33m(\u001b[0m\u001b[1;34m'Seleccione una opción '\u001b[0m\u001b[1;33m)\u001b[0m\u001b[1;33m\u001b[0m\u001b[1;33m\u001b[0m\u001b[0m\n\u001b[0;32m      4\u001b[0m     \u001b[0mprint\u001b[0m\u001b[1;33m(\u001b[0m\u001b[1;34m'1:añadir(presione 1)\\n 2: Pagar Factura (presione 2) \\n 3:Terminar'\u001b[0m\u001b[1;33m)\u001b[0m\u001b[1;33m\u001b[0m\u001b[1;33m\u001b[0m\u001b[0m\n\u001b[1;32m----> 5\u001b[1;33m     \u001b[0mopcion\u001b[0m \u001b[1;33m=\u001b[0m \u001b[0mint\u001b[0m\u001b[1;33m(\u001b[0m\u001b[0minput\u001b[0m\u001b[1;33m(\u001b[0m\u001b[1;33m)\u001b[0m\u001b[1;33m)\u001b[0m\u001b[1;33m\u001b[0m\u001b[1;33m\u001b[0m\u001b[0m\n\u001b[0m\u001b[0;32m      6\u001b[0m     \u001b[1;32mif\u001b[0m \u001b[0mopcion\u001b[0m \u001b[1;33m==\u001b[0m \u001b[1;36m1\u001b[0m\u001b[1;33m:\u001b[0m\u001b[1;33m\u001b[0m\u001b[1;33m\u001b[0m\u001b[0m\n\u001b[0;32m      7\u001b[0m         \u001b[0mn_factura\u001b[0m \u001b[1;33m=\u001b[0m \u001b[0mstr\u001b[0m\u001b[1;33m(\u001b[0m\u001b[0minput\u001b[0m\u001b[1;33m(\u001b[0m\u001b[1;34m'ingresar número de factura:'\u001b[0m\u001b[1;33m)\u001b[0m\u001b[1;33m)\u001b[0m\u001b[1;33m\u001b[0m\u001b[1;33m\u001b[0m\u001b[0m\n",
      "\u001b[1;31mValueError\u001b[0m: invalid literal for int() with base 10: ''"
     ]
    }
   ],
   "source": [
    "factura=dict()\n",
    "while True:\n",
    "    print('Seleccione una opción ')\n",
    "    print('1:añadir(presione 1)\\n 2: Pagar Factura (presione 2) \\n 3:Terminar')\n",
    "    opcion = int(input())\n",
    "    if opcion == 1:\n",
    "        n_factura = str(input('ingresar número de factura:'))\n",
    "        c_factura= float(input('ingresar el coste de la factura'))\n",
    "        valor = factura.setdefault(n_factura,c_factura)\n",
    "        print(factura)\n",
    "    elif opcion == 2:\n",
    "        preguntar = str(input('ingresar numero de factura para efectuar pago '))\n",
    "        verificar = factura.get(preguntar) \n",
    "        if verificar!=None:\n",
    "            eliminar =factura.pop(preguntar)\n",
    "        else:\n",
    "            print('no se encontró el número de factura')\n",
    "            continue\n",
    "    elif opcion == 3:\n",
    "        break"
   ]
  },
  {
   "cell_type": "code",
   "execution_count": 54,
   "metadata": {},
   "outputs": [
    {
     "name": "stdout",
     "output_type": "stream",
     "text": [
      "Seleccione una opción \n",
      "1:añadir(presione 1)\n",
      " 2: Pagar Factura (presione 2) \n",
      " 3:Terminar\n",
      "no se encontró el número de factura\n",
      "Seleccione una opción \n",
      "1:añadir(presione 1)\n",
      " 2: Pagar Factura (presione 2) \n",
      " 3:Terminar\n"
     ]
    },
    {
     "ename": "ValueError",
     "evalue": "invalid literal for int() with base 10: ''",
     "output_type": "error",
     "traceback": [
      "\u001b[1;31m---------------------------------------------------------------------------\u001b[0m",
      "\u001b[1;31mValueError\u001b[0m                                Traceback (most recent call last)",
      "\u001b[1;32m~\\AppData\\Local\\Temp\\ipykernel_25532\\3242429915.py\u001b[0m in \u001b[0;36m<module>\u001b[1;34m\u001b[0m\n\u001b[0;32m      3\u001b[0m     \u001b[0mprint\u001b[0m\u001b[1;33m(\u001b[0m\u001b[1;34m'Seleccione una opción '\u001b[0m\u001b[1;33m)\u001b[0m\u001b[1;33m\u001b[0m\u001b[1;33m\u001b[0m\u001b[0m\n\u001b[0;32m      4\u001b[0m     \u001b[0mprint\u001b[0m\u001b[1;33m(\u001b[0m\u001b[1;34m'1:añadir(presione 1)\\n 2: Pagar Factura (presione 2) \\n 3:Terminar'\u001b[0m\u001b[1;33m)\u001b[0m\u001b[1;33m\u001b[0m\u001b[1;33m\u001b[0m\u001b[0m\n\u001b[1;32m----> 5\u001b[1;33m     \u001b[0mopcion\u001b[0m \u001b[1;33m=\u001b[0m \u001b[0mint\u001b[0m\u001b[1;33m(\u001b[0m\u001b[0minput\u001b[0m\u001b[1;33m(\u001b[0m\u001b[1;33m)\u001b[0m\u001b[1;33m)\u001b[0m\u001b[1;33m\u001b[0m\u001b[1;33m\u001b[0m\u001b[0m\n\u001b[0m\u001b[0;32m      6\u001b[0m     \u001b[1;32mif\u001b[0m \u001b[0mopcion\u001b[0m \u001b[1;33m==\u001b[0m \u001b[1;36m1\u001b[0m\u001b[1;33m:\u001b[0m\u001b[1;33m\u001b[0m\u001b[1;33m\u001b[0m\u001b[0m\n\u001b[0;32m      7\u001b[0m         \u001b[0mn_factura\u001b[0m \u001b[1;33m=\u001b[0m \u001b[0mstr\u001b[0m\u001b[1;33m(\u001b[0m\u001b[0minput\u001b[0m\u001b[1;33m(\u001b[0m\u001b[1;34m'ingresar número de factura:'\u001b[0m\u001b[1;33m)\u001b[0m\u001b[1;33m)\u001b[0m\u001b[1;33m\u001b[0m\u001b[1;33m\u001b[0m\u001b[0m\n",
      "\u001b[1;31mValueError\u001b[0m: invalid literal for int() with base 10: ''"
     ]
    }
   ],
   "source": [
    "factura=dict()\n",
    "while True:\n",
    "    print('Seleccione una opción ')\n",
    "    print('1:añadir(presione 1)\\n 2: Pagar Factura (presione 2) \\n 3:Terminar')\n",
    "    opcion = int(input())\n",
    "    if opcion == 1:\n",
    "        n_factura = str(input('ingresar número de factura:'))\n",
    "        c_factura= float(input('ingresar el coste de la factura'))\n",
    "        valor = factura.setdefault(n_factura,c_factura)\n",
    "        print(factura)\n",
    "    elif opcion == 2:\n",
    "        preguntar = str(input('ingresar numero de factura para efectuar pago '))\n",
    "        verificar = factura.get(preguntar) \n",
    "        if verificar!=None:\n",
    "            eliminar =factura.pop(preguntar)\n",
    "        else:\n",
    "            print('no se encontró el número de factura')\n",
    "            continue\n",
    "    elif opcion == 3:\n",
    "        break"
   ]
  },
  {
   "cell_type": "code",
   "execution_count": 55,
   "metadata": {},
   "outputs": [
    {
     "name": "stdout",
     "output_type": "stream",
     "text": [
      "Seleccione una opción \n",
      "1:añadir(presione 1)\n",
      " 2: Pagar Factura (presione 2) \n",
      " 3:Terminar\n",
      "{'2580': 250.0}\n",
      "Seleccione una opción \n",
      "1:añadir(presione 1)\n",
      " 2: Pagar Factura (presione 2) \n",
      " 3:Terminar\n"
     ]
    },
    {
     "ename": "ValueError",
     "evalue": "invalid literal for int() with base 10: ''",
     "output_type": "error",
     "traceback": [
      "\u001b[1;31m---------------------------------------------------------------------------\u001b[0m",
      "\u001b[1;31mValueError\u001b[0m                                Traceback (most recent call last)",
      "\u001b[1;32m~\\AppData\\Local\\Temp\\ipykernel_25532\\3242429915.py\u001b[0m in \u001b[0;36m<module>\u001b[1;34m\u001b[0m\n\u001b[0;32m      3\u001b[0m     \u001b[0mprint\u001b[0m\u001b[1;33m(\u001b[0m\u001b[1;34m'Seleccione una opción '\u001b[0m\u001b[1;33m)\u001b[0m\u001b[1;33m\u001b[0m\u001b[1;33m\u001b[0m\u001b[0m\n\u001b[0;32m      4\u001b[0m     \u001b[0mprint\u001b[0m\u001b[1;33m(\u001b[0m\u001b[1;34m'1:añadir(presione 1)\\n 2: Pagar Factura (presione 2) \\n 3:Terminar'\u001b[0m\u001b[1;33m)\u001b[0m\u001b[1;33m\u001b[0m\u001b[1;33m\u001b[0m\u001b[0m\n\u001b[1;32m----> 5\u001b[1;33m     \u001b[0mopcion\u001b[0m \u001b[1;33m=\u001b[0m \u001b[0mint\u001b[0m\u001b[1;33m(\u001b[0m\u001b[0minput\u001b[0m\u001b[1;33m(\u001b[0m\u001b[1;33m)\u001b[0m\u001b[1;33m)\u001b[0m\u001b[1;33m\u001b[0m\u001b[1;33m\u001b[0m\u001b[0m\n\u001b[0m\u001b[0;32m      6\u001b[0m     \u001b[1;32mif\u001b[0m \u001b[0mopcion\u001b[0m \u001b[1;33m==\u001b[0m \u001b[1;36m1\u001b[0m\u001b[1;33m:\u001b[0m\u001b[1;33m\u001b[0m\u001b[1;33m\u001b[0m\u001b[0m\n\u001b[0;32m      7\u001b[0m         \u001b[0mn_factura\u001b[0m \u001b[1;33m=\u001b[0m \u001b[0mstr\u001b[0m\u001b[1;33m(\u001b[0m\u001b[0minput\u001b[0m\u001b[1;33m(\u001b[0m\u001b[1;34m'ingresar número de factura:'\u001b[0m\u001b[1;33m)\u001b[0m\u001b[1;33m)\u001b[0m\u001b[1;33m\u001b[0m\u001b[1;33m\u001b[0m\u001b[0m\n",
      "\u001b[1;31mValueError\u001b[0m: invalid literal for int() with base 10: ''"
     ]
    }
   ],
   "source": [
    "factura=dict()\n",
    "while True:\n",
    "    print('Seleccione una opción ')\n",
    "    print('1:añadir(presione 1)\\n 2: Pagar Factura (presione 2) \\n 3:Terminar')\n",
    "    opcion = int(input())\n",
    "    if opcion == 1:\n",
    "        n_factura = str(input('ingresar número de factura:'))\n",
    "        c_factura= float(input('ingresar el coste de la factura'))\n",
    "        valor = factura.setdefault(n_factura,c_factura)\n",
    "        print(factura)\n",
    "    elif opcion == 2:\n",
    "        preguntar = str(input('ingresar numero de factura para efectuar pago '))\n",
    "        verificar = factura.get(preguntar) \n",
    "        if verificar!=None:\n",
    "            eliminar =factura.pop(preguntar)\n",
    "        else:\n",
    "            print('no se encontró el número de factura')\n",
    "            continue\n",
    "    elif opcion == 3:\n",
    "        break"
   ]
  }
 ],
 "metadata": {
  "kernelspec": {
   "display_name": "base",
   "language": "python",
   "name": "python3"
  },
  "language_info": {
   "codemirror_mode": {
    "name": "ipython",
    "version": 3
   },
   "file_extension": ".py",
   "mimetype": "text/x-python",
   "name": "python",
   "nbconvert_exporter": "python",
   "pygments_lexer": "ipython3",
   "version": "3.9.13"
  },
  "orig_nbformat": 4
 },
 "nbformat": 4,
 "nbformat_minor": 2
}
